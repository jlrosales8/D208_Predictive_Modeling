version https://git-lfs.github.com/spec/v1
oid sha256:b98a14fbd99ef751595bc16ec303b678ab8cc87747131b83e7d9a96747dccd12
size 441281
